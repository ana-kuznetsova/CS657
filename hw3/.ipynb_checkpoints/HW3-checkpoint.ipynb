{
 "cells": [
  {
   "cell_type": "code",
   "execution_count": 1,
   "metadata": {},
   "outputs": [],
   "source": [
    "import numpy as np\n",
    "import sounddevice as snddev\n",
    "import soundfile as sndfl\n",
    "import librosa\n",
    "import matplotlib.pyplot as plt"
   ]
  },
  {
   "cell_type": "code",
   "execution_count": 36,
   "metadata": {},
   "outputs": [],
   "source": [
    "def calculae_snr(speech, noise, sample_rate):        \n",
    "    noise, noise_sr = sndfl.read(noise)\n",
    "    speech, speech_sr = sndfl.read(speech)\n",
    "    \n",
    "    noise = librosa.resample(noise, noise_sr, sample_rate)\n",
    "    speech = librosa.resample(speech, speech_sr, sample_rate)\n",
    "    \n",
    "    E_speech = np.sum(np.power(speech, 2))\n",
    "\n",
    "    E_noise = np.sum(np.power(noise, 2))\n",
    "    return 10*np.log10(E_speech/E_noise)"
   ]
  },
  {
   "cell_type": "code",
   "execution_count": 37,
   "metadata": {},
   "outputs": [
    {
     "name": "stdout",
     "output_type": "stream",
     "text": [
      "SNR speech.wav vs. noise.wav:  -15.10387671838279\n",
      "SNR speech.wav vs. noise2.wav:  -2.9999974600837955\n",
      "SNR speech.wav vs. noise3.wav:  5.437715882682735e-06\n",
      "SNR speech.wav vs. noise4.wav:  11.999998899622696\n"
     ]
    }
   ],
   "source": [
    "print('SNR speech.wav vs. noise.wav: ', calculae_snr('speech.wav', 'noise.wav', 16000))\n",
    "print('SNR speech.wav vs. noise2.wav: ', calculae_snr('speech.wav', 'noise2.wav', 16000))\n",
    "print('SNR speech.wav vs. noise3.wav: ', calculae_snr('speech.wav', 'noise3.wav', 16000))\n",
    "print('SNR speech.wav vs. noise4.wav: ', calculae_snr('speech.wav', 'noise4.wav', 16000))"
   ]
  },
  {
   "cell_type": "code",
   "execution_count": 79,
   "metadata": {},
   "outputs": [],
   "source": [
    "def generate_noisy(speech, noise, desired_snr, sample_rate):\n",
    "    noise, noise_sr = sndfl.read(noise)\n",
    "    speech, speech_sr = sndfl.read(speech)\n",
    "    \n",
    "    noise = librosa.resample(noise, noise_sr, sample_rate)\n",
    "    speech = librosa.resample(speech, speech_sr, sample_rate)\n",
    "    \n",
    "    #calculate energies\n",
    "    E_speech = np.sum(np.power(speech, 2))\n",
    "    E_noise = np.sum(np.power(noise, 2))\n",
    "    \n",
    "    #calculate b coeff\n",
    "    b = np.sqrt((E_speech/(np.power(10, (desired_snr/10))))/E_noise)\n",
    "    print('b coeff: ', b)\n",
    "    \n",
    "    return speech + b*noise\n",
    "\n",
    "def spit(file_name, signal):\n",
    "    librosa.output.write_wav(file_name, signal, 16000)"
   ]
  },
  {
   "cell_type": "code",
   "execution_count": 28,
   "metadata": {},
   "outputs": [],
   "source": [
    "SNR1 = -6\n",
    "SNR2 = 4.5\n",
    "SNR3 = 16"
   ]
  },
  {
   "cell_type": "code",
   "execution_count": 68,
   "metadata": {
    "scrolled": true
   },
   "outputs": [
    {
     "name": "stdout",
     "output_type": "stream",
     "text": [
      "b coeff:  0.35059536000968017\n",
      "b coeff:  0.10466612940461839\n",
      "b coeff:  0.02784877934190132\n"
     ]
    }
   ],
   "source": [
    "noisy1 = generate_noisy('speech.wav', 'noise.wav', SNR1, 16000)\n",
    "noisy2 = generate_noisy('speech.wav', 'noise.wav', SNR2, 16000)\n",
    "noisy3 = generate_noisy('speech.wav', 'noise.wav', SNR3, 16000)"
   ]
  },
  {
   "cell_type": "code",
   "execution_count": 78,
   "metadata": {},
   "outputs": [],
   "source": [
    "spit('noisy1.wav', noisy1)\n",
    "spit('noisy2.wav', noisy2)\n",
    "spit('noisy3.wav', noisy3)"
   ]
  }
 ],
 "metadata": {
  "kernelspec": {
   "display_name": "Python 3",
   "language": "python",
   "name": "python3"
  },
  "language_info": {
   "codemirror_mode": {
    "name": "ipython",
    "version": 3
   },
   "file_extension": ".py",
   "mimetype": "text/x-python",
   "name": "python",
   "nbconvert_exporter": "python",
   "pygments_lexer": "ipython3",
   "version": "3.7.2"
  }
 },
 "nbformat": 4,
 "nbformat_minor": 2
}
